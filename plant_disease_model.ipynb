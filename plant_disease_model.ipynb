{
 "cells": [
  {
   "cell_type": "code",
   "execution_count": 12,
   "id": "e5dea4f7-9258-4c6e-acba-a6f9826b97e1",
   "metadata": {},
   "outputs": [],
   "source": [
    "import tensorflow as tf\n",
    "from tensorflow.keras.preprocessing.image import ImageDataGenerator\n",
    "from tensorflow.keras.models import Sequential\n",
    "from tensorflow.keras.layers import Conv2D, MaxPooling2D, Flatten, Dense, Dropout\n",
    "import matplotlib.pyplot as plt\n"
   ]
  },
  {
   "cell_type": "code",
   "execution_count": null,
   "id": "c903ff6b-3672-499b-b55a-c2d30964bc3f",
   "metadata": {},
   "outputs": [
    {
     "name": "stdout",
     "output_type": "stream",
     "text": [
      "Classes found: ['file_renamer.py', 'folder_renamer.py', 'test', 'train']\n",
      "Skipping test, no images found.\n",
      "Skipping train, no images found.\n",
      "Dataset successfully split into training and validation sets!\n",
      "Found 16146 images belonging to 20 classes.\n",
      "Found 4191 images belonging to 20 classes.\n",
      "Epoch 1/2\n",
      "\u001b[1m1010/1010\u001b[0m \u001b[32m━━━━━━━━━━━━━━━━━━━━\u001b[0m\u001b[37m\u001b[0m \u001b[1m931s\u001b[0m 918ms/step - accuracy: 0.4962 - loss: 1.7621 - val_accuracy: 0.7442 - val_loss: 0.7583\n",
      "Epoch 2/2\n",
      "\u001b[1m1010/1010\u001b[0m \u001b[32m━━━━━━━━━━━━━━━━━━━━\u001b[0m\u001b[37m\u001b[0m \u001b[1m636s\u001b[0m 629ms/step - accuracy: 0.6930 - loss: 0.9266 - val_accuracy: 0.7454 - val_loss: 0.8131\n"
     ]
    },
    {
     "name": "stderr",
     "output_type": "stream",
     "text": [
      "WARNING:absl:You are saving your model as an HDF5 file via `model.save()` or `keras.saving.save_model(model)`. This file format is considered legacy. We recommend using instead the native Keras format, e.g. `model.save('my_model.keras')` or `keras.saving.save_model(model, 'my_model.keras')`. \n"
     ]
    },
    {
     "name": "stdout",
     "output_type": "stream",
     "text": [
      "Model training complete and saved as 'plant_disease_model.h5'\n"
     ]
    }
   ],
   "source": [
    " import tensorflow as tf\n",
    "from tensorflow.keras.preprocessing.image import ImageDataGenerator\n",
    "from tensorflow.keras.models import Sequential\n",
    "from tensorflow.keras.layers import Conv2D, MaxPooling2D, Flatten, Dense, Dropout\n",
    "import matplotlib.pyplot as plt\n",
    "import os\n",
    "import shutil\n",
    "from sklearn.model_selection import train_test_split\n",
    "\n",
    "\n",
    "\n",
    "# Correct dataset path (including the subfolder)\n",
    "original_dataset_dir = r\"C:\\Users\\renuk\\Downloads\\crop\"\n",
    "\n",
    "# Define new dataset paths\n",
    "base_dir = 'dataset'\n",
    "train_dir = os.path.join(base_dir, 'train')\n",
    "val_dir = os.path.join(base_dir, 'val')\n",
    "\n",
    "# Create train and validation directories\n",
    "os.makedirs(train_dir, exist_ok=True)\n",
    "os.makedirs(val_dir, exist_ok=True)\n",
    "\n",
    "# Print class folders\n",
    "print(\"Classes found:\", os.listdir(original_dataset_dir))\n",
    "\n",
    "# Iterate over each class folder\n",
    "for class_name in os.listdir(original_dataset_dir):\n",
    "    class_dir = os.path.join(original_dataset_dir, class_name)\n",
    "    \n",
    "    # Ensure it's a directory\n",
    "    if os.path.isdir(class_dir):\n",
    "        train_class_dir = os.path.join(train_dir, class_name)\n",
    "        val_class_dir = os.path.join(val_dir, class_name)\n",
    "        os.makedirs(train_class_dir, exist_ok=True)\n",
    "        os.makedirs(val_class_dir, exist_ok=True)\n",
    "\n",
    "        # Get all image files (only jpg, png, jpeg)\n",
    "        images = [f for f in os.listdir(class_dir) if f.lower().endswith(('.png', '.jpg', '.jpeg'))]\n",
    "\n",
    "        # Check if there are images before splitting\n",
    "        if len(images) == 0:\n",
    "            print(f\"Skipping {class_name}, no images found.\")\n",
    "            continue\n",
    "\n",
    "        # Split images into train (80%) and val (20%)\n",
    "        train_images, val_images = train_test_split(images, test_size=0.2, random_state=42)\n",
    "\n",
    "           # Move images to train folder\n",
    "        for image in train_images:\n",
    "            shutil.copy(os.path.join(class_dir, image), os.path.join(train_class_dir, image))  # Copy instead of Move\n",
    "\n",
    "# Move images to validation folder\n",
    "        for image in val_images:\n",
    "            shutil.copy(os.path.join(class_dir, image), os.path.join(val_class_dir, image))  # Copy instead of Move\n",
    "\n",
    "\n",
    "        print(f\"Processed {class_name}: {len(train_images)} train, {len(val_images)} validation images.\")\n",
    "\n",
    "print(\"Dataset successfully split into training and validation sets!\")\n",
    "\n",
    "# Image Data Generators (optimized for performance)\n",
    "train_datagen = ImageDataGenerator(\n",
    "    rescale=1./255,\n",
    "    rotation_range=30,\n",
    "    width_shift_range=0.2,\n",
    "    height_shift_range=0.2,\n",
    "    shear_range=0.2,\n",
    "    zoom_range=0.2,\n",
    "    horizontal_flip=True,\n",
    "    fill_mode='nearest'\n",
    ")\n",
    "val_datagen = ImageDataGenerator(rescale=1./255)\n",
    "\n",
    "train_generator = train_datagen.flow_from_directory(\n",
    "    train_dir,\n",
    "    target_size=(150, 150),\n",
    "    batch_size=16,  # Reduced batch size for lower memory usage\n",
    "    class_mode='categorical')\n",
    "\n",
    "val_generator = val_datagen.flow_from_directory(\n",
    "    val_dir,\n",
    "    target_size=(150, 150),\n",
    "    batch_size=16,\n",
    "    class_mode='categorical')\n",
    "\n",
    "# Model Architecture (Simple CNN for better performance on CPU/GPU)\n",
    "model = Sequential([\n",
    "    Conv2D(32, (3, 3), activation='relu', input_shape=(150, 150, 3)),\n",
    "    MaxPooling2D(2, 2),\n",
    "    Conv2D(64, (3, 3), activation='relu'),\n",
    "    MaxPooling2D(2, 2),\n",
    "    Flatten(),\n",
    "    Dense(128, activation='relu'),\n",
    "    Dropout(0.5),\n",
    "    Dense(len(train_generator.class_indices), activation='softmax')\n",
    "])\n",
    "\n",
    "model.compile(optimizer='adam', loss='categorical_crossentropy', metrics=['accuracy'])\n",
    "\n",
    "# Train the model with limited epochs (1 or 2 for testing)\n",
    "history = model.fit(\n",
    "    train_generator,\n",
    "    validation_data=val_generator,\n",
    "    epochs=2,  # Reduced epochs for faster training\n",
    "    verbose=1\n",
    ")\n",
    "\n",
    "# Save the model\n",
    "model.save(\"plant_disease_model.h5\")\n",
    "print(\"Model training complete and saved as 'plant_disease_model.h5'\")\n",
    "\n",
    "\n"
   ]
  },
  {
   "cell_type": "code",
   "execution_count": 16,
   "id": "9f5e480c-3bd0-492a-8678-4161c9bfa8f9",
   "metadata": {},
   "outputs": [
    {
     "data": {
      "image/png": "[encoded data removed]",
      "text/plain": [
       "<Figure size 1200x400 with 2 Axes>"
      ]
     },
     "metadata": {},
     "output_type": "display_data"
    }
   ],
   "source": [
    "# Plot training history\n",
    "plt.figure(figsize=(12, 4))\n",
    "\n",
    "# Accuracy Plot\n",
    "plt.subplot(1, 2, 1)\n",
    "plt.plot(history.history['accuracy'], label='Train Accuracy')\n",
    "plt.plot(history.history['val_accuracy'], label='Validation Accuracy')\n",
    "plt.xlabel('Epochs')\n",
    "plt.ylabel('Accuracy')\n",
    "plt.legend()\n",
    "plt.title('Model Accuracy')\n",
    "\n",
    "# Loss Plot\n",
    "plt.subplot(1, 2, 2)\n",
    "plt.plot(history.history['loss'], label='Train Loss')\n",
    "plt.plot(history.history['val_loss'], label='Validation Loss')\n",
    "plt.xlabel('Epochs')\n",
    "plt.ylabel('Loss')\n",
    "plt.legend()\n",
    "plt.title('Model Loss')\n",
    "\n",
    "plt.show()\n"
   ]
  },
  {
   "cell_type": "code",
   "execution_count": null,
   "id": "b6b4dfce-c61b-4256-9549-1735c99b1010",
   "metadata": {},
   "outputs": [
    {
     "name": "stdout",
     "output_type": "stream",
     "text": [
      "\u001b[1m203/262\u001b[0m \u001b[32m━━━━━━━━━━━━━━━\u001b[0m\u001b[37m━━━━━\u001b[0m \u001b[1m21s\u001b[0m 371ms/step - accuracy: 0.7381 - loss: 0.8108 "
     ]
    }
   ],
   "source": [
    "val_loss, val_acc = model.evaluate(val_generator)\n",
    "print(f\"Validation Accuracy: {val_acc * 100:.2f}%\")\n",
    "print(f\"Validation Loss: {val_loss:.4f}\")\n"
   ]
  },
  {
   "cell_type": "code",
   "execution_count": 82,
   "id": "97d050a7-8454-4068-ba5b-742c16a7dd4e",
   "metadata": {},
   "outputs": [
    {
     "name": "stdout",
     "output_type": "stream",
     "text": [
      "\u001b[1m1/1\u001b[0m \u001b[32m━━━━━━━━━━━━━━━━━━━━\u001b[0m\u001b[37m\u001b[0m \u001b[1m0s\u001b[0m 110ms/step\n",
      "Predicted Class: Grape___Leaf_blight_(Isariopsis_Leaf_Spot)\n"
     ]
    }
   ],
   "source": [
    "import numpy as np\n",
    "from tensorflow.keras.preprocessing import image\n",
    "\n",
    "# Load an image for testing\n",
    "img_path = r\"C:\\Users\\renuk\\Downloads\\crop1.png\"\n",
    "img = image.load_img(img_path, target_size=(150, 150))\n",
    "img_array = image.img_to_array(img)\n",
    "img_array = np.expand_dims(img_array, axis=0) / 255.0  # Normalize\n",
    "\n",
    "# Predict\n",
    "predictions = model.predict(img_array)\n",
    "predicted_class = np.argmax(predictions)\n",
    "\n",
    "# Get class labels\n",
    "class_labels = list(train_generator.class_indices.keys())\n",
    "print(f\"Predicted Class: {class_labels[predicted_class]}\")\n"
   ]
  },
  {
   "cell_type": "code",
   "execution_count": 1,
   "id": "dc5ad9c3-1ed0-4f08-b1da-34f83b79f503",
   "metadata": {},
   "outputs": [
    {
     "name": "stderr",
     "output_type": "stream",
     "text": [
      "WARNING:absl:Compiled the loaded model, but the compiled metrics have yet to be built. `model.compile_metrics` will be empty until you train or evaluate the model.\n"
     ]
    },
    {
     "name": "stdout",
     "output_type": "stream",
     "text": [
      "Model reloaded successfully!\n"
     ]
    }
   ],
   "source": [
    "from tensorflow.keras.models import load_model\n",
    "\n",
    "# Load the saved model\n",
    "model = load_model(\"plant_disease_model.h5\")\n",
    "\n",
    "# Verify model is working\n",
    "print(\"Model reloaded successfully!\")\n"
   ]
  },
  {
   "cell_type": "code",
   "execution_count": 5,
   "id": "a4f61382-4518-4f15-bbf7-af0f1aa6f490",
   "metadata": {},
   "outputs": [
    {
     "name": "stderr",
     "output_type": "stream",
     "text": [
      "WARNING:absl:Compiled the loaded model, but the compiled metrics have yet to be built. `model.compile_metrics` will be empty until you train or evaluate the model.\n"
     ]
    },
    {
     "name": "stdout",
     "output_type": "stream",
     "text": [
      "INFO:tensorflow:Assets written to: C:\\Users\\renuk\\AppData\\Local\\Temp\\tmp5wldzfgr\\assets\n"
     ]
    },
    {
     "name": "stderr",
     "output_type": "stream",
     "text": [
      "INFO:tensorflow:Assets written to: C:\\Users\\renuk\\AppData\\Local\\Temp\\tmp5wldzfgr\\assets\n"
     ]
    },
    {
     "name": "stdout",
     "output_type": "stream",
     "text": [
      "Saved artifact at 'C:\\Users\\renuk\\AppData\\Local\\Temp\\tmp5wldzfgr'. The following endpoints are available:\n",
      "\n",
      "* Endpoint 'serve'\n",
      "  args_0 (POSITIONAL_ONLY): TensorSpec(shape=(None, 150, 150, 3), dtype=tf.float32, name='input_layer_7')\n",
      "Output Type:\n",
      "  TensorSpec(shape=(None, 20), dtype=tf.float32, name=None)\n",
      "Captures:\n",
      "  2493019146192: TensorSpec(shape=(), dtype=tf.resource, name=None)\n",
      "  2493019148112: TensorSpec(shape=(), dtype=tf.resource, name=None)\n",
      "  2493019147920: TensorSpec(shape=(), dtype=tf.resource, name=None)\n",
      "  2493019148880: TensorSpec(shape=(), dtype=tf.resource, name=None)\n",
      "  2493019148304: TensorSpec(shape=(), dtype=tf.resource, name=None)\n",
      "  2493019149840: TensorSpec(shape=(), dtype=tf.resource, name=None)\n",
      "  2493019149072: TensorSpec(shape=(), dtype=tf.resource, name=None)\n",
      "  2493019151376: TensorSpec(shape=(), dtype=tf.resource, name=None)\n",
      "TFLite model saved successfully as 'plant_disease_model.tflite'\n"
     ]
    }
   ],
   "source": [
    "import tensorflow as tf\n",
    "\n",
    "# Load the trained model\n",
    "model = tf.keras.models.load_model(\"plant_disease_model.h5\")\n",
    "\n",
    "# Convert to TFLite format\n",
    "converter = tf.lite.TFLiteConverter.from_keras_model(model)\n",
    "tflite_model = converter.convert()\n",
    "\n",
    "# Save the model\n",
    "with open(\"plant_disease_model.tflite\", \"wb\") as f:\n",
    "    f.write(tflite_model)\n",
    "\n",
    "print(\"TFLite model saved successfully as 'plant_disease_model.tflite'\")\n",
    "\n"
   ]
  },
  {
   "cell_type": "code",
   "execution_count": 37,
   "id": "389b947a-5bc5-4565-a965-76e4bddc284d",
   "metadata": {},
   "outputs": [
    {
     "name": "stdout",
     "output_type": "stream",
     "text": [
      "Class distribution in training set: Counter({15: 4349, 3: 1483, 4: 1201, 12: 1106, 8: 953, 11: 944, 10: 929, 13: 860, 5: 841, 9: 788, 6: 683, 1: 537, 0: 504, 7: 410, 14: 338, 2: 220})\n"
     ]
    }
   ],
   "source": [
    "import collections\n",
    "\n",
    "class_counts = collections.Counter(train_generator.classes)\n",
    "print(\"Class distribution in training set:\", class_counts)\n",
    "\n"
   ]
  },
  {
   "cell_type": "code",
   "execution_count": null,
   "id": "a3c4eb87-1325-4a5b-a6d7-a0171eb73c47",
   "metadata": {},
   "outputs": [],
   "source": []
  }
 ],
 "metadata": {
  "kernelspec": {
   "display_name": "Python [conda env:base] *",
   "language": "python",
   "name": "conda-base-py"
  },
  "language_info": {
   "codemirror_mode": {
    "name": "ipython",
    "version": 3
   },
   "file_extension": ".py",
   "mimetype": "text/x-python",
   "name": "python",
   "nbconvert_exporter": "python",
   "pygments_lexer": "ipython3",
   "version": "3.11.11"
  }
 },
 "nbformat": 4,
 "nbformat_minor": 5
}
